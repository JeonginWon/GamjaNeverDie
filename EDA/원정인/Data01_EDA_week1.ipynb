{
 "cells": [
  {
   "cell_type": "markdown",
   "id": "b3961563",
   "metadata": {},
   "source": [
    "# 빅콘 DataSet01 EDA\n",
    "## 브랜드 체인 가맹점 vs 개인 자영업(비체인)"
   ]
  },
  {
   "cell_type": "code",
   "execution_count": 29,
   "id": "fb8ea58a",
   "metadata": {},
   "outputs": [],
   "source": [
    "import matplotlib.pyplot as plt\n",
    "import matplotlib.font_manager as fm\n",
    "\n",
    "# 윈도우 (Malgun Gothic), 맥 (AppleGothic), 리눅스(나눔고딕) 등 환경에 맞는 폰트 지정\n",
    "plt.rc('font', family='Malgun Gothic')   # Windows: 맑은 고딕\n",
    "# plt.rc('font', family='AppleGothic')   # macOS\n",
    "# plt.rc('font', family='NanumGothic')   # Linux (나눔고딕 설치 필요)\n",
    "\n",
    "# 마이너스 깨짐 방지\n",
    "plt.rcParams['axes.unicode_minus'] = False\n"
   ]
  },
  {
   "cell_type": "code",
   "execution_count": 7,
   "id": "58132162",
   "metadata": {},
   "outputs": [],
   "source": [
    "import pandas as pd\n",
    "import matplotlib.pyplot as plt\n",
    "import seaborn as sns\n",
    "from scipy.stats import chi2_contingency"
   ]
  },
  {
   "cell_type": "code",
   "execution_count": 8,
   "id": "969defd0",
   "metadata": {},
   "outputs": [],
   "source": [
    "df = pd.read_csv(\"big_data_set1_f.csv\", encoding ='cp949')"
   ]
  },
  {
   "cell_type": "code",
   "execution_count": 9,
   "id": "1c1ce5ad",
   "metadata": {},
   "outputs": [],
   "source": [
    "df['close'] = df['MCT_ME_D'].notnull().astype(int) \n",
    "df['brand'] = df['MCT_BRD_NUM'].notnull().map({True:'체인점', False:'자영업'})\n",
    "df['BZD'] = df['HPSN_MCT_BZN_CD_NM'].notnull().map({True:'상권', False:'비상권'})"
   ]
  },
  {
   "cell_type": "code",
   "execution_count": 10,
   "id": "fe2b9779",
   "metadata": {},
   "outputs": [
    {
     "data": {
      "text/html": [
       "<div>\n",
       "<style scoped>\n",
       "    .dataframe tbody tr th:only-of-type {\n",
       "        vertical-align: middle;\n",
       "    }\n",
       "\n",
       "    .dataframe tbody tr th {\n",
       "        vertical-align: top;\n",
       "    }\n",
       "\n",
       "    .dataframe thead th {\n",
       "        text-align: right;\n",
       "    }\n",
       "</style>\n",
       "<table border=\"1\" class=\"dataframe\">\n",
       "  <thead>\n",
       "    <tr style=\"text-align: right;\">\n",
       "      <th></th>\n",
       "      <th>ENCODED_MCT</th>\n",
       "      <th>MCT_BSE_AR</th>\n",
       "      <th>MCT_NM</th>\n",
       "      <th>MCT_BRD_NUM</th>\n",
       "      <th>MCT_SIGUNGU_NM</th>\n",
       "      <th>HPSN_MCT_ZCD_NM</th>\n",
       "      <th>HPSN_MCT_BZN_CD_NM</th>\n",
       "      <th>ARE_D</th>\n",
       "      <th>MCT_ME_D</th>\n",
       "      <th>close</th>\n",
       "      <th>brand</th>\n",
       "      <th>BZD</th>\n",
       "    </tr>\n",
       "  </thead>\n",
       "  <tbody>\n",
       "    <tr>\n",
       "      <th>0</th>\n",
       "      <td>16184E93D9</td>\n",
       "      <td>서울 성동구 마장동</td>\n",
       "      <td>성우**</td>\n",
       "      <td>NaN</td>\n",
       "      <td>서울 성동구</td>\n",
       "      <td>축산물</td>\n",
       "      <td>마장동</td>\n",
       "      <td>20130320</td>\n",
       "      <td>NaN</td>\n",
       "      <td>0</td>\n",
       "      <td>자영업</td>\n",
       "      <td>상권</td>\n",
       "    </tr>\n",
       "    <tr>\n",
       "      <th>1</th>\n",
       "      <td>4D039EA8B7</td>\n",
       "      <td>서울 성동구 마장동</td>\n",
       "      <td>대보**</td>\n",
       "      <td>NaN</td>\n",
       "      <td>서울 성동구</td>\n",
       "      <td>축산물</td>\n",
       "      <td>마장동</td>\n",
       "      <td>20131122</td>\n",
       "      <td>NaN</td>\n",
       "      <td>0</td>\n",
       "      <td>자영업</td>\n",
       "      <td>상권</td>\n",
       "    </tr>\n",
       "    <tr>\n",
       "      <th>2</th>\n",
       "      <td>0074C4990A</td>\n",
       "      <td>서울 성동구 마장동</td>\n",
       "      <td>대용**</td>\n",
       "      <td>NaN</td>\n",
       "      <td>서울 성동구</td>\n",
       "      <td>축산물</td>\n",
       "      <td>마장동</td>\n",
       "      <td>20140512</td>\n",
       "      <td>NaN</td>\n",
       "      <td>0</td>\n",
       "      <td>자영업</td>\n",
       "      <td>상권</td>\n",
       "    </tr>\n",
       "    <tr>\n",
       "      <th>3</th>\n",
       "      <td>68308F2746</td>\n",
       "      <td>서울 성동구 마장동</td>\n",
       "      <td>통일**</td>\n",
       "      <td>NaN</td>\n",
       "      <td>서울 성동구</td>\n",
       "      <td>축산물</td>\n",
       "      <td>마장동</td>\n",
       "      <td>20151124</td>\n",
       "      <td>NaN</td>\n",
       "      <td>0</td>\n",
       "      <td>자영업</td>\n",
       "      <td>상권</td>\n",
       "    </tr>\n",
       "    <tr>\n",
       "      <th>4</th>\n",
       "      <td>4117EDDE9C</td>\n",
       "      <td>서울 성동구 마장동</td>\n",
       "      <td>한울**</td>\n",
       "      <td>NaN</td>\n",
       "      <td>서울 성동구</td>\n",
       "      <td>축산물</td>\n",
       "      <td>마장동</td>\n",
       "      <td>20151211</td>\n",
       "      <td>NaN</td>\n",
       "      <td>0</td>\n",
       "      <td>자영업</td>\n",
       "      <td>상권</td>\n",
       "    </tr>\n",
       "  </tbody>\n",
       "</table>\n",
       "</div>"
      ],
      "text/plain": [
       "  ENCODED_MCT  MCT_BSE_AR MCT_NM MCT_BRD_NUM MCT_SIGUNGU_NM HPSN_MCT_ZCD_NM  \\\n",
       "0  16184E93D9  서울 성동구 마장동   성우**         NaN         서울 성동구             축산물   \n",
       "1  4D039EA8B7  서울 성동구 마장동   대보**         NaN         서울 성동구             축산물   \n",
       "2  0074C4990A  서울 성동구 마장동   대용**         NaN         서울 성동구             축산물   \n",
       "3  68308F2746  서울 성동구 마장동   통일**         NaN         서울 성동구             축산물   \n",
       "4  4117EDDE9C  서울 성동구 마장동   한울**         NaN         서울 성동구             축산물   \n",
       "\n",
       "  HPSN_MCT_BZN_CD_NM     ARE_D  MCT_ME_D  close brand BZD  \n",
       "0                마장동  20130320       NaN      0   자영업  상권  \n",
       "1                마장동  20131122       NaN      0   자영업  상권  \n",
       "2                마장동  20140512       NaN      0   자영업  상권  \n",
       "3                마장동  20151124       NaN      0   자영업  상권  \n",
       "4                마장동  20151211       NaN      0   자영업  상권  "
      ]
     },
     "execution_count": 10,
     "metadata": {},
     "output_type": "execute_result"
    }
   ],
   "source": [
    "df.head()"
   ]
  },
  {
   "cell_type": "markdown",
   "id": "6a7aa131",
   "metadata": {},
   "source": [
    "체인 여부 (브랜드 여부) 로 보는 폐업 위험\n",
    "\n",
    " 0 = 운영중, 1 = 폐업"
   ]
  },
  {
   "cell_type": "code",
   "execution_count": 12,
   "id": "a7e1a2ee",
   "metadata": {},
   "outputs": [
    {
     "name": "stdout",
     "output_type": "stream",
     "text": [
      "close     0    1\n",
      "brand           \n",
      "자영업    3532  111\n",
      "체인점     526   16\n"
     ]
    }
   ],
   "source": [
    "chain_closure = pd.crosstab(df['brand'], df['close'])\n",
    "print(chain_closure)"
   ]
  },
  {
   "cell_type": "code",
   "execution_count": 13,
   "id": "8c3b5307",
   "metadata": {},
   "outputs": [
    {
     "name": "stdout",
     "output_type": "stream",
     "text": [
      "\n",
      "[체인점 vs 폐업여부] Chi2=0.00, p-value=1.0000\n"
     ]
    }
   ],
   "source": [
    "chi2, p, dof, ex = chi2_contingency(chain_closure)\n",
    "print(f\"\\n[체인점 vs 폐업여부] Chi2={chi2:.2f}, p-value={p:.4f}\")"
   ]
  },
  {
   "cell_type": "code",
   "execution_count": 30,
   "id": "c7952d03",
   "metadata": {},
   "outputs": [
    {
     "data": {
      "image/png": "[encoded data removed]",
      "text/plain": [
       "<Figure size 432x288 with 1 Axes>"
      ]
     },
     "metadata": {
      "needs_background": "light"
     },
     "output_type": "display_data"
    }
   ],
   "source": [
    "plt.figure(figsize=(6,4))\n",
    "sns.barplot(data=df, x='brand', y='close', estimator=lambda x: sum(x)/len(x))\n",
    "\n",
    "plt.ylabel(\"close_percent\")\n",
    "plt.show()"
   ]
  },
  {
   "cell_type": "code",
   "execution_count": 16,
   "id": "e81868d5",
   "metadata": {},
   "outputs": [
    {
     "name": "stdout",
     "output_type": "stream",
     "text": [
      "close     0   1\n",
      "BZD            \n",
      "비상권    1010  37\n",
      "상권     3048  90\n"
     ]
    }
   ],
   "source": [
    "market_closure = pd.crosstab(df['BZD'], df['close'])\n",
    "print(market_closure)"
   ]
  },
  {
   "cell_type": "code",
   "execution_count": 17,
   "id": "b638a681",
   "metadata": {},
   "outputs": [
    {
     "name": "stdout",
     "output_type": "stream",
     "text": [
      "\n",
      "[상권 vs 폐업여부] Chi2=0.97, p-value=0.3253\n"
     ]
    }
   ],
   "source": [
    "chi2, p, dof, ex = chi2_contingency(market_closure)\n",
    "print(f\"\\n[상권 vs 폐업여부] Chi2={chi2:.2f}, p-value={p:.4f}\")"
   ]
  },
  {
   "cell_type": "code",
   "execution_count": 31,
   "id": "15cbd689",
   "metadata": {},
   "outputs": [
    {
     "data": {
      "image/png": "[encoded data removed]",
      "text/plain": [
       "<Figure size 432x288 with 1 Axes>"
      ]
     },
     "metadata": {
      "needs_background": "light"
     },
     "output_type": "display_data"
    }
   ],
   "source": [
    "plt.figure(figsize=(6,4))\n",
    "sns.barplot(data=df, x='BZD', y='close', estimator=lambda x: sum(x)/len(x))\n",
    "plt.title(\"상권/비상권별 폐업률 비교\")\n",
    "plt.ylabel(\"폐업률\")\n",
    "plt.show()"
   ]
  },
  {
   "cell_type": "markdown",
   "id": "c9ff6698",
   "metadata": {},
   "source": []
  },
  {
   "cell_type": "markdown",
   "id": "740f5536",
   "metadata": {},
   "source": [
    "## 범주형 변수 비교, 요약통계"
   ]
  },
  {
   "cell_type": "code",
   "execution_count": 20,
   "id": "e33592e8",
   "metadata": {},
   "outputs": [
    {
     "name": "stdout",
     "output_type": "stream",
     "text": [
      "데이터 크기: (4185, 12)\n",
      "\n",
      "컬럼별 결측치 개수:\n",
      "ENCODED_MCT              0\n",
      "MCT_BSE_AR               0\n",
      "MCT_NM                   0\n",
      "MCT_BRD_NUM           3643\n",
      "MCT_SIGUNGU_NM           0\n",
      "HPSN_MCT_ZCD_NM          0\n",
      "HPSN_MCT_BZN_CD_NM    1047\n",
      "ARE_D                    0\n",
      "MCT_ME_D              4058\n",
      "close                    0\n",
      "brand                    0\n",
      "BZD                      0\n",
      "dtype: int64\n",
      "\n",
      "기본 요약 통계 (수치형 변수):\n",
      "              ARE_D      MCT_ME_D        close\n",
      "count  4.185000e+03  1.270000e+02  4185.000000\n",
      "mean   2.018352e+07  2.024716e+07     0.030346\n",
      "std    5.743071e+04  6.859542e+03     0.171559\n",
      "min    1.990023e+07  2.023010e+07     0.000000\n",
      "25%    2.016032e+07  2.025017e+07     0.000000\n",
      "50%    2.020073e+07  2.025072e+07     0.000000\n",
      "75%    2.023033e+07  2.025080e+07     0.000000\n",
      "max    2.024122e+07  2.025082e+07     1.000000\n",
      "\n",
      "데이터 타입 확인:\n",
      "ENCODED_MCT            object\n",
      "MCT_BSE_AR             object\n",
      "MCT_NM                 object\n",
      "MCT_BRD_NUM            object\n",
      "MCT_SIGUNGU_NM         object\n",
      "HPSN_MCT_ZCD_NM        object\n",
      "HPSN_MCT_BZN_CD_NM     object\n",
      "ARE_D                   int64\n",
      "MCT_ME_D              float64\n",
      "close                   int64\n",
      "brand                  object\n",
      "BZD                    object\n",
      "dtype: object\n"
     ]
    }
   ],
   "source": [
    "print(\"데이터 크기:\", df.shape)\n",
    "print(\"\\n컬럼별 결측치 개수:\")\n",
    "print(df.isnull().sum())\n",
    "\n",
    "print(\"\\n기본 요약 통계 (수치형 변수):\")\n",
    "print(df.describe())\n",
    "\n",
    "print(\"\\n데이터 타입 확인:\")\n",
    "print(df.dtypes)\n"
   ]
  },
  {
   "cell_type": "code",
   "execution_count": 21,
   "id": "69850cf3",
   "metadata": {},
   "outputs": [
    {
     "name": "stdout",
     "output_type": "stream",
     "text": [
      "\n",
      "[brand] 분포\n",
      "brand\n",
      "자영업    3643\n",
      "체인점     542\n",
      "Name: count, dtype: int64\n",
      "brand\n",
      "자영업    87.048984\n",
      "체인점    12.951016\n",
      "Name: proportion, dtype: float64\n",
      "\n",
      "[close] 분포\n",
      "close\n",
      "0    4058\n",
      "1     127\n",
      "Name: count, dtype: int64\n",
      "close\n",
      "0    96.965352\n",
      "1     3.034648\n",
      "Name: proportion, dtype: float64\n",
      "\n",
      "[BZD] 분포\n",
      "BZD\n",
      "상권     3138\n",
      "비상권    1047\n",
      "Name: count, dtype: int64\n",
      "BZD\n",
      "상권     74.982079\n",
      "비상권    25.017921\n",
      "Name: proportion, dtype: float64\n"
     ]
    }
   ],
   "source": [
    "for col in ['brand', 'close', 'BZD']:\n",
    "    print(f\"\\n[{col}] 분포\")\n",
    "    print(df[col].value_counts(dropna=False))\n",
    "    print(df[col].value_counts(normalize=True, dropna=False) * 100)"
   ]
  },
  {
   "cell_type": "code",
   "execution_count": 22,
   "id": "23f926c3",
   "metadata": {},
   "outputs": [
    {
     "name": "stdout",
     "output_type": "stream",
     "text": [
      "\n",
      "브랜드 여부별 폐업률:\n",
      "  brand     close\n",
      "0   자영업  0.030469\n",
      "1   체인점  0.029520\n",
      "\n",
      "상권 여부별 폐업률:\n",
      "   BZD     close\n",
      "0  비상권  0.035339\n",
      "1   상권  0.028681\n"
     ]
    }
   ],
   "source": [
    "# 브랜드별 폐업률\n",
    "brand_close = df.groupby('brand')['close'].mean().reset_index()\n",
    "print(\"\\n브랜드 여부별 폐업률:\")\n",
    "print(brand_close)\n",
    "\n",
    "# 상권 여부별 폐업률\n",
    "BZD_close = df.groupby('BZD')['close'].mean().reset_index()\n",
    "print(\"\\n상권 여부별 폐업률:\")\n",
    "print(BZD_close)"
   ]
  },
  {
   "cell_type": "code",
   "execution_count": 24,
   "id": "2155c01f",
   "metadata": {},
   "outputs": [
    {
     "name": "stdout",
     "output_type": "stream",
     "text": [
      "\n",
      "체인/상권별 폐업률 교차표(비율):\n",
      "close             0         1\n",
      "brand BZD                    \n",
      "자영업   비상권  0.964286  0.035714\n",
      "      상권   0.971241  0.028759\n",
      "체인점   비상권  0.966887  0.033113\n",
      "      상권   0.971867  0.028133\n",
      "All        0.969654  0.030346\n"
     ]
    }
   ],
   "source": [
    "# 다차원 교차표 (그냥 단순 상관관계)\n",
    "cross_tab = pd.crosstab([df['brand'], df['BZD']], df['close'], margins=True, normalize='index')\n",
    "print(\"\\n체인/상권별 폐업률 교차표(비율):\")\n",
    "print(cross_tab)\n"
   ]
  },
  {
   "cell_type": "code",
   "execution_count": 25,
   "id": "abd8b3c8",
   "metadata": {},
   "outputs": [],
   "source": [
    "import seaborn as sns\n",
    "import matplotlib.pyplot as plt"
   ]
  },
  {
   "cell_type": "code",
   "execution_count": 28,
   "id": "920f7948",
   "metadata": {},
   "outputs": [
    {
     "data": {
      "image/png": "[encoded data removed]",
      "text/plain": [
       "<Figure size 288x288 with 1 Axes>"
      ]
     },
     "metadata": {
      "needs_background": "light"
     },
     "output_type": "display_data"
    },
    {
     "data": {
      "image/png": "[encoded data removed]",
      "text/plain": [
       "<Figure size 432x288 with 1 Axes>"
      ]
     },
     "metadata": {
      "needs_background": "light"
     },
     "output_type": "display_data"
    },
    {
     "data": {
      "image/png": "[encoded data removed]",
      "text/plain": [
       "<Figure size 432x288 with 1 Axes>"
      ]
     },
     "metadata": {
      "needs_background": "light"
     },
     "output_type": "display_data"
    },
    {
     "data": {
      "image/png": "[encoded data removed]",
      "text/plain": [
       "<Figure size 432x288 with 1 Axes>"
      ]
     },
     "metadata": {
      "needs_background": "light"
     },
     "output_type": "display_data"
    }
   ],
   "source": [
    "# 전체 폐업률\n",
    "plt.figure(figsize=(4,4))\n",
    "sns.countplot(data=df, x='close')\n",
    "plt.title(\"전체 폐업여부 분포 (0=운영중, 1=폐업)\")\n",
    "plt.show()\n",
    "\n",
    "# 브랜드별 폐업률\n",
    "plt.figure(figsize=(6,4))\n",
    "sns.barplot(data=df, x='brand', y='close')\n",
    "plt.title(\"체인/자영업별 폐업률\")\n",
    "plt.ylabel(\"폐업률\")\n",
    "plt.show()\n",
    "\n",
    "# 상권별 폐업률\n",
    "plt.figure(figsize=(6,4))\n",
    "sns.barplot(data=df, x='BZD', y='close')\n",
    "plt.title(\"상권/비상권별 폐업률\")\n",
    "plt.ylabel(\"폐업률\")\n",
    "plt.show()\n",
    "\n",
    "# 체인+상권 조합별 폐업률\n",
    "plt.figure(figsize=(6,4))\n",
    "sns.barplot(data=df, x='brand', y='close', hue='BZD')\n",
    "plt.title(\"체인/자영업 × 상권/비상권 조합별 폐업률\")\n",
    "plt.ylabel(\"폐업률\")\n",
    "plt.show()"
   ]
  },
  {
   "cell_type": "code",
   "execution_count": null,
   "id": "6f0eaf52",
   "metadata": {},
   "outputs": [],
   "source": []
  }
 ],
 "metadata": {
  "kernelspec": {
   "display_name": "Python 3",
   "language": "python",
   "name": "python3"
  },
  "language_info": {
   "codemirror_mode": {
    "name": "ipython",
    "version": 3
   },
   "file_extension": ".py",
   "mimetype": "text/x-python",
   "name": "python",
   "nbconvert_exporter": "python",
   "pygments_lexer": "ipython3",
   "version": "3.10.1"
  }
 },
 "nbformat": 4,
 "nbformat_minor": 5
}
